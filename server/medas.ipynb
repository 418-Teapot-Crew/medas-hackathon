{
 "cells": [
  {
   "cell_type": "code",
   "execution_count": 146,
   "metadata": {},
   "outputs": [
    {
     "name": "stdout",
     "output_type": "stream",
     "text": [
      "Merkez 128 1 1,032 2\n",
      "Akçakoca 268 2 0,257 3\n",
      "Kaynaşlı 376 3 -0,099 3\n",
      "Gümüşova 393 4 -0,134 3\n",
      "Çilimli 432 5 -0,196 4\n",
      "Cumayeri 459 6 -0,237 4\n",
      "Gölyaka 607 7 -0,472 4\n",
      "Yığılca 877 8 -0,880 6\n"
     ]
    }
   ],
   "source": [
    "with open(\"./test.txt\", \"r\", encoding=\"utf-8\") as fp:\n",
    "    data = fp.read()\n",
    "    \n",
    "data = data.replace(\"\\n\", \" \")\n",
    "for i in range(0, len(data.split(\" \")), 5):\n",
    "    temp = {\n",
    "        \"il\": \"DÜZCE\",\n",
    "        \"ilce\": data.split(\" \")[i],\n",
    "        \"genel_sira\": data.split(\" \")[i+1],\n",
    "        \"il_ici_sira\": data.split(\" \")[i+2],\n",
    "        \"skor\": data.split(\" \")[i+3],\n",
    "        \"kademe\": data.split(\" \")[i+4],\n",
    "    }\n",
    "    print(data.split(\" \")[i], data.split(\" \")[i+1], data.split(\" \")[i+2], data.split(\" \")[i+3],data.split(\" \")[i+4])\n",
    "    gelismislik.append(temp)"
   ]
  },
  {
   "cell_type": "code",
   "execution_count": 155,
   "metadata": {},
   "outputs": [],
   "source": [
    "import pandas as pd"
   ]
  },
  {
   "cell_type": "code",
   "execution_count": 158,
   "metadata": {},
   "outputs": [
    {
     "data": {
      "text/html": [
       "<div>\n",
       "<style scoped>\n",
       "    .dataframe tbody tr th:only-of-type {\n",
       "        vertical-align: middle;\n",
       "    }\n",
       "\n",
       "    .dataframe tbody tr th {\n",
       "        vertical-align: top;\n",
       "    }\n",
       "\n",
       "    .dataframe thead th {\n",
       "        text-align: right;\n",
       "    }\n",
       "</style>\n",
       "<table border=\"1\" class=\"dataframe\">\n",
       "  <thead>\n",
       "    <tr style=\"text-align: right;\">\n",
       "      <th></th>\n",
       "      <th>İL KODU               İL ADI                   İLÇE ADI   SANDIK SAYISI   SEÇMEN SAYISI</th>\n",
       "    </tr>\n",
       "  </thead>\n",
       "  <tbody>\n",
       "    <tr>\n",
       "      <th>0</th>\n",
       "      <td>1   ADANA                ALADAĞ               ...</td>\n",
       "    </tr>\n",
       "    <tr>\n",
       "      <th>1</th>\n",
       "      <td>1   ADANA                CEYHAN               ...</td>\n",
       "    </tr>\n",
       "    <tr>\n",
       "      <th>2</th>\n",
       "      <td>1   ADANA                ÇUKUROVA             ...</td>\n",
       "    </tr>\n",
       "    <tr>\n",
       "      <th>3</th>\n",
       "      <td>1   ADANA                FEKE                 ...</td>\n",
       "    </tr>\n",
       "    <tr>\n",
       "      <th>4</th>\n",
       "      <td>1   ADANA                İMAMOĞLU             ...</td>\n",
       "    </tr>\n",
       "  </tbody>\n",
       "</table>\n",
       "</div>"
      ],
      "text/plain": [
       "  İL KODU               İL ADI                   İLÇE ADI   SANDIK SAYISI   SEÇMEN SAYISI\n",
       "0  1   ADANA                ALADAĞ               ...                                     \n",
       "1  1   ADANA                CEYHAN               ...                                     \n",
       "2  1   ADANA                ÇUKUROVA             ...                                     \n",
       "3  1   ADANA                FEKE                 ...                                     \n",
       "4  1   ADANA                İMAMOĞLU             ...                                     "
      ]
     },
     "execution_count": 158,
     "metadata": {},
     "output_type": "execute_result"
    }
   ],
   "source": [
    "data = pd.read_csv(\"./secmen.csv\", delimiter=\"\\t\")\n",
    "data.head()"
   ]
  },
  {
   "cell_type": "code",
   "execution_count": null,
   "metadata": {},
   "outputs": [],
   "source": []
  }
 ],
 "metadata": {
  "kernelspec": {
   "display_name": "Python 3",
   "language": "python",
   "name": "python3"
  },
  "language_info": {
   "codemirror_mode": {
    "name": "ipython",
    "version": 3
   },
   "file_extension": ".py",
   "mimetype": "text/x-python",
   "name": "python",
   "nbconvert_exporter": "python",
   "pygments_lexer": "ipython3",
   "version": "3.10.11"
  }
 },
 "nbformat": 4,
 "nbformat_minor": 2
}
